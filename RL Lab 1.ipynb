{
 "cells": [
  {
   "cell_type": "markdown",
   "id": "ba7d0681",
   "metadata": {},
   "source": [
    "computing averages and 1-armed bandit\n",
    "3 ways to compute averages\n",
    "The third method uses temporal difference\n",
    "see Sutton and Barto\n",
    "Q = Q + a*(R - Q), where in this case Q is the average\n",
    "and R is the new value to be averaged\n",
    "also use rand.gauss(0, 1) instead of i"
   ]
  },
  {
   "cell_type": "code",
   "execution_count": 39,
   "id": "2de1f0a2",
   "metadata": {},
   "outputs": [],
   "source": [
    "import random as rand\n",
    "import matplotlib.pyplot as plt \n",
    "import numpy as np\n",
    "\n",
    "N = 2\n",
    "i = rand.gauss(0,1)\n",
    "def average1():\n",
    "    sum = 0\n",
    "    for i in range(1, N):\n",
    "        sum += i\n",
    "    avg1 = sum / (N-1)\n",
    "    print('avg1', avg1)"
   ]
  },
  {
   "cell_type": "code",
   "execution_count": 40,
   "id": "7ddb0e61",
   "metadata": {},
   "outputs": [],
   "source": [
    "#incremental\n",
    "def average2():\n",
    "    avg = 0\n",
    "    for i in range(1, N):\n",
    "        avg2 = avg * (i-1)/i + 1\n",
    "    print('avg2', avg2)"
   ]
  },
  {
   "cell_type": "code",
   "execution_count": 1,
   "id": "29ca6e94",
   "metadata": {},
   "outputs": [],
   "source": [
    "#incremental + temporal difference\n",
    "def average3():\n",
    "    avg = 0\n",
    "    for i in range(1, N):\n",
    "        avg3 = avg * (i-1)/i + i/i\n",
    "    print('avg3', avg3)"
   ]
  },
  {
   "cell_type": "code",
   "execution_count": 42,
   "id": "f4dddfe6",
   "metadata": {},
   "outputs": [
    {
     "name": "stdout",
     "output_type": "stream",
     "text": [
      "avg1 1.0\n",
      "avg2 1.0\n",
      "avg3 1.0\n"
     ]
    }
   ],
   "source": [
    "if __name__ == '__main__':\n",
    "    average1()\n",
    "    average2()\n",
    "    average3()"
   ]
  },
  {
   "cell_type": "code",
   "execution_count": 44,
   "id": "07a2c3b8",
   "metadata": {},
   "outputs": [
    {
     "ename": "NameError",
     "evalue": "name 'avg1' is not defined",
     "output_type": "error",
     "traceback": [
      "\u001b[0;31m---------------------------------------------------------------------------\u001b[0m",
      "\u001b[0;31mNameError\u001b[0m                                 Traceback (most recent call last)",
      "Input \u001b[0;32mIn [44]\u001b[0m, in \u001b[0;36m<cell line: 4>\u001b[0;34m()\u001b[0m\n\u001b[1;32m      2\u001b[0m plt\u001b[38;5;241m.\u001b[39mxlim(\u001b[38;5;241m0\u001b[39m,\u001b[38;5;241m21\u001b[39m)\n\u001b[1;32m      3\u001b[0m plt\u001b[38;5;241m.\u001b[39mylim(\u001b[38;5;241m0.5\u001b[39m,\u001b[38;5;241m1.5\u001b[39m)\n\u001b[0;32m----> 4\u001b[0m a \u001b[38;5;241m=\u001b[39m [\u001b[43mavg1\u001b[49m, avg2, avg3]\n\u001b[1;32m      5\u001b[0m y \u001b[38;5;241m=\u001b[39m np\u001b[38;5;241m.\u001b[39mones(np\u001b[38;5;241m.\u001b[39mshape(a))   \u001b[38;5;66;03m# Make all y values the same\u001b[39;00m\n\u001b[1;32m      6\u001b[0m plt\u001b[38;5;241m.\u001b[39mplot(a,y,\u001b[38;5;124m'\u001b[39m\u001b[38;5;124m|\u001b[39m\u001b[38;5;124m'\u001b[39m,ms \u001b[38;5;241m=\u001b[39m \u001b[38;5;241m40\u001b[39m)  \u001b[38;5;66;03m# Plot a line at each location specified in a\u001b[39;00m\n",
      "\u001b[0;31mNameError\u001b[0m: name 'avg1' is not defined"
     ]
    },
    {
     "data": {
      "image/png": "[encoded data removed]",
      "text/plain": [
       "<Figure size 432x288 with 1 Axes>"
      ]
     },
     "metadata": {
      "needs_background": "light"
     },
     "output_type": "display_data"
    }
   ],
   "source": [
    "plt.hlines(1,1,20)\n",
    "plt.xlim(0,21)\n",
    "plt.ylim(0.5,1.5)\n",
    "a = [avg1, avg2, avg3]\n",
    "y = np.ones(np.shape(a))   # Make all y values the same\n",
    "plt.plot(a,y,'|',ms = 40)  # Plot a line at each location specified in a\n",
    "plt.axis('off')\n",
    "plt.show()\n"
   ]
  },
  {
   "cell_type": "code",
   "execution_count": null,
   "id": "8aac7883",
   "metadata": {},
   "outputs": [],
   "source": []
  }
 ],
 "metadata": {
  "kernelspec": {
   "display_name": "Python 3 (ipykernel)",
   "language": "python",
   "name": "python3"
  },
  "language_info": {
   "codemirror_mode": {
    "name": "ipython",
    "version": 3
   },
   "file_extension": ".py",
   "mimetype": "text/x-python",
   "name": "python",
   "nbconvert_exporter": "python",
   "pygments_lexer": "ipython3",
   "version": "3.9.16"
  }
 },
 "nbformat": 4,
 "nbformat_minor": 5
}
